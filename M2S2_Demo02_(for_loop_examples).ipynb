{
  "nbformat": 4,
  "nbformat_minor": 0,
  "metadata": {
    "colab": {
      "provenance": []
    },
    "kernelspec": {
      "name": "python3",
      "display_name": "Python 3"
    },
    "language_info": {
      "name": "python"
    }
  },
  "cells": [
    {
      "cell_type": "markdown",
      "source": [
        "Let's imagine we are at a school where each lecture lasts two hours. We want to design a message that would play through the intercom system after every lecture throughout the school day, announcing the time of day. Make sure that the time announced is in the 12-hour format. Our school starts at 8 AM and ends at 4 PM."
      ],
      "metadata": {
        "id": "_sooOAtzWB8l"
      }
    },
    {
      "cell_type": "code",
      "source": [
        "for hour in range(8, 17, 2):  # this counts from 8 to 16 in steps of 2, which is 8, 10, 12, 14, 16\n",
        "    if hour < 12:\n",
        "        print('It is', hour, 'AM!')\n",
        "    elif hour == 12:\n",
        "        print('It is noon!')\n",
        "    else:\n",
        "        print('It is', hour - 12, 'PM!')"
      ],
      "metadata": {
        "id": "hyGM2z59XMGT"
      },
      "execution_count": null,
      "outputs": []
    }
  ]
}