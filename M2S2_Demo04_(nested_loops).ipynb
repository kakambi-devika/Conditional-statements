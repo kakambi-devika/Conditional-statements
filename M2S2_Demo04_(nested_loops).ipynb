{
  "nbformat": 4,
  "nbformat_minor": 0,
  "metadata": {
    "colab": {
      "provenance": []
    },
    "kernelspec": {
      "name": "python3",
      "display_name": "Python 3"
    },
    "language_info": {
      "name": "python"
    }
  },
  "cells": [
    {
      "cell_type": "markdown",
      "source": [
        "Loops can be nested if you want to perform an operation repeatedly within another operation that is also repeating itself. Let's try to make a multiplication table using some nested `while` loops."
      ],
      "metadata": {
        "id": "kep_Om9QseEa"
      }
    },
    {
      "cell_type": "code",
      "source": [
        "rows = 6\n",
        "columns = 6\n",
        "\n",
        "i = 1\n",
        "while i <= rows:\n",
        "    j = 1\n",
        "    while j <= columns:\n",
        "        print(str(i * j), end = ' ')  # setting the end parameter this way introduces a space at the end instead of a new line\n",
        "        j += 1\n",
        "    print()  # will print nothing but introduce a new line\n",
        "    i += 1"
      ],
      "metadata": {
        "colab": {
          "base_uri": "https://localhost:8080/"
        },
        "id": "C5sRM28A4JaB",
        "outputId": "276b1fbf-478a-4d0b-992c-aee76e82724a"
      },
      "execution_count": null,
      "outputs": [
        {
          "output_type": "stream",
          "name": "stdout",
          "text": [
            "1 2 3 4 5 6 \n",
            "2 4 6 8 10 12 \n",
            "3 6 9 12 15 18 \n",
            "4 8 12 16 20 24 \n",
            "5 10 15 20 25 30 \n",
            "6 12 18 24 30 36 \n"
          ]
        }
      ]
    },
    {
      "cell_type": "markdown",
      "source": [
        "The same can be achieved with a nested `for` loop"
      ],
      "metadata": {
        "id": "LMfFYclyud2v"
      }
    },
    {
      "cell_type": "code",
      "source": [
        "rows = 6\n",
        "columns = 6\n",
        "\n",
        "for i in range(1, rows + 1):\n",
        "    for j in range(1, columns + 1):\n",
        "        print(str(i * j), end = ' ')  # setting the end parameter this way introduces a space at the end instead of a new line\n",
        "    print()  # will print nothing but introduce a new line"
      ],
      "metadata": {
        "id": "I8jzEJ-ft4iP",
        "colab": {
          "base_uri": "https://localhost:8080/"
        },
        "outputId": "880a25e1-68b3-4704-e728-ec1d9382d284"
      },
      "execution_count": null,
      "outputs": [
        {
          "output_type": "stream",
          "name": "stdout",
          "text": [
            "1 2 3 4 5 6 \n",
            "2 4 6 8 10 12 \n",
            "3 6 9 12 15 18 \n",
            "4 8 12 16 20 24 \n",
            "5 10 15 20 25 30 \n",
            "6 12 18 24 30 36 \n"
          ]
        }
      ]
    }
  ]
}