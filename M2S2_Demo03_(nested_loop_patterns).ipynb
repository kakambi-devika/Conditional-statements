{
  "nbformat": 4,
  "nbformat_minor": 0,
  "metadata": {
    "colab": {
      "provenance": []
    },
    "kernelspec": {
      "name": "python3",
      "display_name": "Python 3"
    },
    "language_info": {
      "name": "python"
    }
  },
  "cells": [
    {
      "cell_type": "markdown",
      "source": [
        "Let's print and display a simple number triangle"
      ],
      "metadata": {
        "id": "n3zYRSwS7K3H"
      }
    },
    {
      "cell_type": "code",
      "source": [
        "n = 5  # number of rows\n",
        "\n",
        "for i in range(1, n + 1):  # iterates over rows 1, 2, 3, ..., n\n",
        "    for j in range(1, i + 1):  # iterates over rows 1, 2, 3, ..., i\n",
        "        print(j, end = ' ')  # end the print statement with a space instead of a new line\n",
        "    print()  # new line"
      ],
      "metadata": {
        "id": "j6pdhvO17YLw"
      },
      "execution_count": null,
      "outputs": []
    },
    {
      "cell_type": "markdown",
      "source": [
        "What will the code below print?"
      ],
      "metadata": {
        "id": "-z-LoT757I2f"
      }
    },
    {
      "cell_type": "code",
      "execution_count": null,
      "metadata": {
        "id": "1CgNp4cF7HIU"
      },
      "outputs": [],
      "source": [
        "n = 5\n",
        "\n",
        "for i in range(1, n + 1):  # 1, 2, 3, 4, 5\n",
        "    for j in range(n - i): print(' ', end = '')  # range(3) 0, 1, 2\n",
        "    for k in range(2 * i - 1): print('#', end = '')  # range(1) 0, 1 2\n",
        "    print()"
      ]
    },
    {
      "cell_type": "code",
      "source": [],
      "metadata": {
        "id": "whPwmpjwAiby"
      },
      "execution_count": null,
      "outputs": []
    }
  ]
}