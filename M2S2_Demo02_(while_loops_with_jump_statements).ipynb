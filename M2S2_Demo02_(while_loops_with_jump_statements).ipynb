{
  "nbformat": 4,
  "nbformat_minor": 0,
  "metadata": {
    "colab": {
      "provenance": []
    },
    "kernelspec": {
      "name": "python3",
      "display_name": "Python 3"
    },
    "language_info": {
      "name": "python"
    }
  },
  "cells": [
    {
      "cell_type": "markdown",
      "source": [
        "Jump statements control the flow of a program by 'jumping' to different parts of the code. A `continue` statement will skip the remaining code in the current iteration of the loop."
      ],
      "metadata": {
        "id": "AamM5Gt-Tbj9"
      }
    },
    {
      "cell_type": "code",
      "source": [
        "i = 0\n",
        "while i < 10:\n",
        "    i += 1\n",
        "    print(i)\n",
        "    continue\n",
        "    print('I will not be printed')"
      ],
      "metadata": {
        "colab": {
          "base_uri": "https://localhost:8080/"
        },
        "id": "KLaia4R9Jf2E",
        "outputId": "e0118085-757a-4f1c-ce13-ed4172cdfee0"
      },
      "execution_count": null,
      "outputs": [
        {
          "output_type": "stream",
          "name": "stdout",
          "text": [
            "1\n",
            "2\n",
            "3\n",
            "4\n",
            "5\n",
            "6\n",
            "7\n",
            "8\n",
            "9\n",
            "10\n"
          ]
        }
      ]
    },
    {
      "cell_type": "code",
      "execution_count": null,
      "metadata": {
        "id": "9iF3qrOy4OGw",
        "colab": {
          "base_uri": "https://localhost:8080/"
        },
        "outputId": "056da2a3-40b1-47c6-e62e-afced01c3505"
      },
      "outputs": [
        {
          "output_type": "stream",
          "name": "stdout",
          "text": [
            "1\n",
            "3\n",
            "5\n",
            "7\n",
            "9\n"
          ]
        }
      ],
      "source": [
        "i = 0\n",
        "while i < 10:\n",
        "    i += 1\n",
        "    if i % 2 == 0: continue\n",
        "    print(i)  # this statement will be skipped during iterations where continue is executed"
      ]
    },
    {
      "cell_type": "code",
      "source": [
        "# # This code will run forever\n",
        "# i = 0\n",
        "# while i < 10:\n",
        "#     if i % 2 == 0: continue\n",
        "#     print(i)\n",
        "#     i += 1"
      ],
      "metadata": {
        "id": "4LxFIH5F4dPc"
      },
      "execution_count": null,
      "outputs": []
    },
    {
      "cell_type": "markdown",
      "source": [
        "A `break` statement will terminate the loop entirely, skipping all future iterations"
      ],
      "metadata": {
        "id": "WEO1sP6YThSW"
      }
    },
    {
      "cell_type": "code",
      "source": [
        "i = 0\n",
        "while i < 10:\n",
        "    i += 1\n",
        "    if i == 7: break\n",
        "    print(i)"
      ],
      "metadata": {
        "id": "XPsLb3LX5TsV",
        "colab": {
          "base_uri": "https://localhost:8080/"
        },
        "outputId": "f3370e3b-624a-4ed8-f39a-be7c767606e8"
      },
      "execution_count": null,
      "outputs": [
        {
          "output_type": "stream",
          "name": "stdout",
          "text": [
            "1\n",
            "2\n",
            "3\n",
            "4\n",
            "5\n",
            "6\n"
          ]
        }
      ]
    },
    {
      "cell_type": "markdown",
      "source": [
        "A `pass` statement does nothing and is usually used as a placeholder in your code. It is not technically a jump statement."
      ],
      "metadata": {
        "id": "V3ZJxz9tTk2g"
      }
    },
    {
      "cell_type": "code",
      "source": [
        "i = 0\n",
        "while i < 10:\n",
        "    i += 1\n",
        "    if i == 7: pass\n",
        "    print(i)"
      ],
      "metadata": {
        "id": "hVKMnQ2a5gme",
        "colab": {
          "base_uri": "https://localhost:8080/"
        },
        "outputId": "f6589bc2-66d0-40cc-e95d-f9a50005546e"
      },
      "execution_count": null,
      "outputs": [
        {
          "output_type": "stream",
          "name": "stdout",
          "text": [
            "1\n",
            "2\n",
            "3\n",
            "4\n",
            "5\n",
            "6\n",
            "7\n",
            "8\n",
            "9\n",
            "10\n"
          ]
        }
      ]
    }
  ]
}