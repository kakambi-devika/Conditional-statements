{
  "nbformat": 4,
  "nbformat_minor": 0,
  "metadata": {
    "colab": {
      "provenance": []
    },
    "kernelspec": {
      "name": "python3",
      "display_name": "Python 3"
    },
    "language_info": {
      "name": "python"
    }
  },
  "cells": [
    {
      "cell_type": "markdown",
      "source": [
        "We have a networking event where we would like every participant to spend time with every other participant, with no repeats. How can we program this?"
      ],
      "metadata": {
        "id": "KJ6lFuIjEPCM"
      }
    },
    {
      "cell_type": "code",
      "source": [
        "num_attendees = 4\n",
        "\n",
        "# Outer loop iterates over each attendee number\n",
        "for i in range(1, num_attendees + 1):  # 1, 2, 3, 4\n",
        "    # Inner loop pairs the current attendee with every subsequent attendee\n",
        "    for j in range(i + 1, num_attendees + 1):\n",
        "        print('Participant', i, 'is paired with participant', j)"
      ],
      "metadata": {
        "id": "wMBkxhBqHDwA"
      },
      "execution_count": null,
      "outputs": []
    }
  ]
}