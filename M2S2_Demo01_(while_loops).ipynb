{
  "nbformat": 4,
  "nbformat_minor": 0,
  "metadata": {
    "colab": {
      "provenance": []
    },
    "kernelspec": {
      "name": "python3",
      "display_name": "Python 3"
    },
    "language_info": {
      "name": "python"
    }
  },
  "cells": [
    {
      "cell_type": "markdown",
      "source": [
        "We might want a program to execute multiple times instead of rewriting the same code. **Loops** are one way of achieving this. A `while` loop is a type of loop which will keep executing while its condition evaluates to `True`."
      ],
      "metadata": {
        "id": "DAsq0GBTSo7m"
      }
    },
    {
      "cell_type": "code",
      "execution_count": null,
      "metadata": {
        "id": "YY7wLeP41guH"
      },
      "outputs": [],
      "source": [
        "# while True: print('This will run forever.')  # you can interrupt execution in Google Colab by clicking the stop button on the cell"
      ]
    },
    {
      "cell_type": "code",
      "source": [
        "while False: print('This will not be printed even once.')"
      ],
      "metadata": {
        "id": "3bM-eZdK3MMp"
      },
      "execution_count": null,
      "outputs": []
    },
    {
      "cell_type": "markdown",
      "source": [
        "You can better control a `while` loop by using conditions and incrementing/decrementing integers"
      ],
      "metadata": {
        "id": "7mPIrt2DTAtH"
      }
    },
    {
      "cell_type": "code",
      "source": [
        "i = 1\n",
        "while i < 10:\n",
        "    print(i)\n",
        "    i += 1"
      ],
      "metadata": {
        "id": "doiLmHTM2hKf",
        "colab": {
          "base_uri": "https://localhost:8080/"
        },
        "outputId": "ad0a0655-7970-4c96-cacd-f3df908da9b6"
      },
      "execution_count": null,
      "outputs": [
        {
          "output_type": "stream",
          "name": "stdout",
          "text": [
            "1\n",
            "2\n",
            "3\n",
            "4\n",
            "5\n",
            "6\n",
            "7\n",
            "8\n",
            "9\n"
          ]
        }
      ]
    },
    {
      "cell_type": "code",
      "source": [
        "i = 1\n",
        "while i < 10:\n",
        "    i += 1\n",
        "    print(i)"
      ],
      "metadata": {
        "id": "gG35-MXI4oyl",
        "colab": {
          "base_uri": "https://localhost:8080/"
        },
        "outputId": "75c3b4c9-c22b-4cd4-8c12-6c3344a62be4"
      },
      "execution_count": null,
      "outputs": [
        {
          "output_type": "stream",
          "name": "stdout",
          "text": [
            "2\n",
            "3\n",
            "4\n",
            "5\n",
            "6\n",
            "7\n",
            "8\n",
            "9\n",
            "10\n"
          ]
        }
      ]
    },
    {
      "cell_type": "code",
      "source": [
        "i = 1\n",
        "while i < 10:\n",
        "    print('#' * i)\n",
        "    i += 1"
      ],
      "metadata": {
        "id": "gbsc_rEd2wNG",
        "colab": {
          "base_uri": "https://localhost:8080/"
        },
        "outputId": "ad20e96d-4b01-4ea2-d15b-d5e647041888"
      },
      "execution_count": null,
      "outputs": [
        {
          "output_type": "stream",
          "name": "stdout",
          "text": [
            "#\n",
            "##\n",
            "###\n",
            "####\n",
            "#####\n",
            "######\n",
            "#######\n",
            "########\n",
            "#########\n"
          ]
        }
      ]
    },
    {
      "cell_type": "code",
      "source": [
        "i = 1\n",
        "while i < 10:\n",
        "    print('#' * i)\n",
        "    i += 1\n",
        "while i > 0:\n",
        "    print('#' * i)\n",
        "    i -= 1"
      ],
      "metadata": {
        "id": "hojUSG9B26JN",
        "colab": {
          "base_uri": "https://localhost:8080/"
        },
        "outputId": "824cdbf7-8c51-40b0-fd04-66af1eb54000"
      },
      "execution_count": null,
      "outputs": [
        {
          "output_type": "stream",
          "name": "stdout",
          "text": [
            "#\n",
            "##\n",
            "###\n",
            "####\n",
            "#####\n",
            "######\n",
            "#######\n",
            "########\n",
            "#########\n",
            "##########\n",
            "#########\n",
            "########\n",
            "#######\n",
            "######\n",
            "#####\n",
            "####\n",
            "###\n",
            "##\n",
            "#\n"
          ]
        }
      ]
    }
  ]
}