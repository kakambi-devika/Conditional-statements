{
  "cells": [
    {
      "cell_type": "markdown",
      "metadata": {
        "id": "JGOPynZWKhXc"
      },
      "source": [
        "Imagine we have a parking garage, where drivers can park their car for a fee that is charged per hour. They can leave the garage whenever they want, but they need to leave the garage if their balance runs out. However, they may choose to top up their balance if this happens. How can we implement this logic using a `while` loop?"
      ]
    },
    {
      "cell_type": "code",
      "execution_count": null,
      "metadata": {
        "id": "eSS_XErqIxsl"
      },
      "outputs": [],
      "source": [
        "balance = int(input('Please enter your balance in rupees: '))\n",
        "hourly_rate = 100  # hourly parking fee in rupees\n",
        "hours_parked = 0  # to track the total hours parked\n",
        "\n",
        "print('Welcome to the upGrad parking garage! You will be billed ₹100 per hour.')\n",
        "\n",
        "# Loop runs as long as the driver has enough balance and decides to stay\n",
        "while balance >= hourly_rate:\n",
        "    # Deduct the hourly rate from the balance\n",
        "    balance -= hourly_rate\n",
        "    hours_parked += 1\n",
        "\n",
        "    print()\n",
        "    print('Hour', hours_parked, 'completed.')\n",
        "    print('100 rupees deducted.')\n",
        "    print('Remaining balance: ₹' + str(balance))\n",
        "\n",
        "    # Check if there's enough balance for another hour\n",
        "    if balance < hourly_rate:\n",
        "        print()\n",
        "        print('Warning: Insufficient funds for another hour. Would you like to add to your balance?')\n",
        "\n",
        "        add_balance = input('Enter \"yes\" to add or \"no\" to exit: ')\n",
        "        if add_balance == 'yes':\n",
        "            balance += int(input('Please enter the amount to add in rupees: '))\n",
        "            print('Balance added successfully. New balance:', balance)\n",
        "        else:\n",
        "            print('You need to exit the garage or risk your vehicle being impounded.')\n",
        "            break\n",
        "\n",
        "    # Ask the driver if they want to stay for another hour\n",
        "    stay = input('Do you want to stay parked for another hour? (yes/no): ')\n",
        "    if stay != 'yes':\n",
        "        print()\n",
        "        print('You have chosen to leave the garage.')\n",
        "        break\n",
        "\n",
        "# Final summary after the loop ends\n",
        "print()\n",
        "print('Parking session ended.')\n",
        "print('Total hours parked:', hours_parked)\n",
        "print('Remaining balance: ₹' + str(balance))\n",
        "print('Thank you for using the upGrad parking garage!')"
      ]
    }
  ],
  "metadata": {
    "colab": {
      "provenance": []
    },
    "kernelspec": {
      "display_name": "Python 3",
      "name": "python3"
    },
    "language_info": {
      "name": "python"
    }
  },
  "nbformat": 4,
  "nbformat_minor": 0
}