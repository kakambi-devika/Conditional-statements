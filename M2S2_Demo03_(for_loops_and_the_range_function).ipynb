{
  "nbformat": 4,
  "nbformat_minor": 0,
  "metadata": {
    "colab": {
      "provenance": []
    },
    "kernelspec": {
      "name": "python3",
      "display_name": "Python 3"
    },
    "language_info": {
      "name": "python"
    }
  },
  "cells": [
    {
      "cell_type": "markdown",
      "source": [
        "We can generate an iterable sequence of numbers using the `range()` function"
      ],
      "metadata": {
        "id": "ragZBmJ4T_lZ"
      }
    },
    {
      "cell_type": "code",
      "execution_count": null,
      "metadata": {
        "id": "lUra3DOJ57cf",
        "colab": {
          "base_uri": "https://localhost:8080/"
        },
        "outputId": "c91888c5-a987-4bf5-9c69-65f7bd6b0cb3"
      },
      "outputs": [
        {
          "output_type": "execute_result",
          "data": {
            "text/plain": [
              "range(1, 10)"
            ]
          },
          "metadata": {},
          "execution_count": 16
        }
      ],
      "source": [
        "range(1, 10)  # starts at 1 (included) and ends at 10 (excluded); thus, it goes from 1 to 9"
      ]
    },
    {
      "cell_type": "code",
      "source": [
        "type(range(1, 10))"
      ],
      "metadata": {
        "id": "rEloPsQk6KGS",
        "colab": {
          "base_uri": "https://localhost:8080/"
        },
        "outputId": "00e02ba1-d03a-4a52-bb3f-b0a9d5900746"
      },
      "execution_count": null,
      "outputs": [
        {
          "output_type": "execute_result",
          "data": {
            "text/plain": [
              "range"
            ]
          },
          "metadata": {},
          "execution_count": 17
        }
      ]
    },
    {
      "cell_type": "markdown",
      "source": [
        "A `for` loop is specially designed to loop through iterable sequences"
      ],
      "metadata": {
        "id": "U_KhkN0gUFHN"
      }
    },
    {
      "cell_type": "code",
      "source": [
        "for i in range(1, 10): print(i)  # i travels through all the elements of the range object in this loop"
      ],
      "metadata": {
        "id": "IS8990pD7a1r",
        "colab": {
          "base_uri": "https://localhost:8080/"
        },
        "outputId": "a26bccf3-502c-47c6-8edd-eabe2b3388eb"
      },
      "execution_count": null,
      "outputs": [
        {
          "output_type": "stream",
          "name": "stdout",
          "text": [
            "1\n",
            "2\n",
            "3\n",
            "4\n",
            "5\n",
            "6\n",
            "7\n",
            "8\n",
            "9\n"
          ]
        }
      ]
    },
    {
      "cell_type": "markdown",
      "source": [
        "The `range()` function also has an option to select the step size"
      ],
      "metadata": {
        "id": "mq1QnIDOV3Iv"
      }
    },
    {
      "cell_type": "code",
      "source": [
        "for i in range(1, 10, 2):  # step size is 2, i.e., prints every second element\n",
        "    print(i)"
      ],
      "metadata": {
        "id": "-m4OlJtu6rKC",
        "colab": {
          "base_uri": "https://localhost:8080/"
        },
        "outputId": "52734318-ad4f-4bd7-ab97-ba373db3e20e"
      },
      "execution_count": null,
      "outputs": [
        {
          "output_type": "stream",
          "name": "stdout",
          "text": [
            "1\n",
            "3\n",
            "5\n",
            "7\n",
            "9\n"
          ]
        }
      ]
    },
    {
      "cell_type": "code",
      "source": [
        "for i in range(1, 15): print('ha' * i)"
      ],
      "metadata": {
        "id": "j7HON5CV64DK",
        "colab": {
          "base_uri": "https://localhost:8080/"
        },
        "outputId": "90b52f38-848e-48fa-d930-a329b790151f"
      },
      "execution_count": null,
      "outputs": [
        {
          "output_type": "stream",
          "name": "stdout",
          "text": [
            "ha\n",
            "haha\n",
            "hahaha\n",
            "hahahaha\n",
            "hahahahaha\n",
            "hahahahahaha\n",
            "hahahahahahaha\n",
            "hahahahahahahaha\n",
            "hahahahahahahahaha\n",
            "hahahahahahahahahaha\n",
            "hahahahahahahahahahaha\n",
            "hahahahahahahahahahahaha\n",
            "hahahahahahahahahahahahaha\n",
            "hahahahahahahahahahahahahaha\n"
          ]
        }
      ]
    },
    {
      "cell_type": "code",
      "source": [
        "for ch in 'Hello world!': print(ch)  # strings are iterable sequences"
      ],
      "metadata": {
        "id": "2XSupe0b7P2A",
        "colab": {
          "base_uri": "https://localhost:8080/"
        },
        "outputId": "9a972945-510d-4696-a6ec-2fa7df126f74"
      },
      "execution_count": null,
      "outputs": [
        {
          "output_type": "stream",
          "name": "stdout",
          "text": [
            "H\n",
            "e\n",
            "l\n",
            "l\n",
            "o\n",
            " \n",
            "w\n",
            "o\n",
            "r\n",
            "l\n",
            "d\n",
            "!\n"
          ]
        }
      ]
    },
    {
      "cell_type": "markdown",
      "source": [
        "We can use jump statements in `for` loops"
      ],
      "metadata": {
        "id": "22vVOrnOUTbZ"
      }
    },
    {
      "cell_type": "code",
      "source": [
        "# This code stops executing when 3 'l's are counted; it skips printing 'l's\n",
        "l_counter = 0\n",
        "for ch in 'Hello world!':\n",
        "    if l_counter == 3:\n",
        "        break\n",
        "    if ch == 'l':\n",
        "        l_counter += 1\n",
        "        continue\n",
        "    print(ch)"
      ],
      "metadata": {
        "id": "O5Be8OPu8pZI",
        "colab": {
          "base_uri": "https://localhost:8080/"
        },
        "outputId": "e620ac80-5810-4642-951d-f399ae819f5e"
      },
      "execution_count": null,
      "outputs": [
        {
          "output_type": "stream",
          "name": "stdout",
          "text": [
            "H\n",
            "e\n",
            "o\n",
            " \n",
            "w\n",
            "o\n",
            "r\n"
          ]
        }
      ]
    }
  ]
}